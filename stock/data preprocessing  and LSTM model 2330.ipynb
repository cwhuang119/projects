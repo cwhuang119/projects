{
 "cells": [
  {
   "cell_type": "markdown",
   "metadata": {
    "colab_type": "text",
    "id": "XrKz0V026ikX"
   },
   "source": [
    "# Import "
   ]
  },
  {
   "cell_type": "code",
   "execution_count": 0,
   "metadata": {
    "colab": {
     "autoexec": {
      "startup": false,
      "wait_interval": 0
     }
    },
    "colab_type": "code",
    "collapsed": false,
    "id": "dT7oY0Dw6ikY",
    "outputId": "8ebb2978-18cb-4639-df61-c112a3e31698"
   },
   "outputs": [
    {
     "name": "stderr",
     "output_type": "stream",
     "text": [
      "/home/ubuntu/.local/lib/python3.6/site-packages/h5py/__init__.py:36: FutureWarning: Conversion of the second argument of issubdtype from `float` to `np.floating` is deprecated. In future, it will be treated as `np.float64 == np.dtype(float).type`.\n",
      "  from ._conv import register_converters as _register_converters\n",
      "Using TensorFlow backend.\n"
     ]
    }
   ],
   "source": [
    "import pandas as pd\n",
    "import tensorflow\n",
    "import numpy as np\n",
    "import os\n",
    "from sklearn.preprocessing import MinMaxScaler\n",
    "from keras.models import Sequential\n",
    "from keras.layers import LSTM, TimeDistributed, Dense,Dropout,Activation\n",
    "from keras.optimizers import Adam\n",
    "from keras.utils import np_utils\n",
    "from keras.utils import *\n",
    "import math\n",
    "import time\n",
    "import matplotlib.pyplot as plt"
   ]
  },
  {
   "cell_type": "markdown",
   "metadata": {
    "colab_type": "text",
    "id": "Uq3owtyC6ikf"
   },
   "source": [
    "# Read Date"
   ]
  },
  {
   "cell_type": "code",
   "execution_count": 0,
   "metadata": {
    "colab": {
     "autoexec": {
      "startup": false,
      "wait_interval": 0
     }
    },
    "colab_type": "code",
    "collapsed": true,
    "id": "F4DHpNzN6ikg"
   },
   "outputs": [],
   "source": [
    "df = pd.read_csv('data/2330+Us.csv' , encoding='big5')"
   ]
  },
  {
   "cell_type": "code",
   "execution_count": 0,
   "metadata": {
    "colab": {
     "autoexec": {
      "startup": false,
      "wait_interval": 0
     }
    },
    "colab_type": "code",
    "collapsed": false,
    "id": "VJ7hSGU26ikk",
    "outputId": "4280bef9-8865-4efd-fbcb-da6c3f36cccb"
   },
   "outputs": [
    {
     "name": "stdout",
     "output_type": "stream",
     "text": [
      "<class 'pandas.core.frame.DataFrame'>\n",
      "RangeIndex: 1661 entries, 0 to 1660\n",
      "Data columns (total 21 columns):\n",
      "Date         1661 non-null object\n",
      "Open         1661 non-null float64\n",
      "High         1661 non-null float64\n",
      "Low          1661 non-null float64\n",
      "Close        1661 non-null float64\n",
      "SMA5         1661 non-null float64\n",
      "SMA10        1661 non-null float64\n",
      "SMA20        1661 non-null float64\n",
      "SMA60        1661 non-null float64\n",
      "Vol          1661 non-null int64\n",
      "MA5          1661 non-null int64\n",
      "MA10         1661 non-null int64\n",
      "DIF          1661 non-null float64\n",
      "MACD9        1661 non-null float64\n",
      "OSC          1661 non-null float64\n",
      "K            1661 non-null object\n",
      "D            1661 non-null object\n",
      "S_P500       1661 non-null float64\n",
      "SOXX         1661 non-null float64\n",
      "ADR          1661 non-null float64\n",
      "TaiwanAll    1661 non-null float64\n",
      "dtypes: float64(15), int64(3), object(3)\n",
      "memory usage: 272.6+ KB\n"
     ]
    }
   ],
   "source": [
    "df.info()"
   ]
  },
  {
   "cell_type": "code",
   "execution_count": 0,
   "metadata": {
    "colab": {
     "autoexec": {
      "startup": false,
      "wait_interval": 0
     }
    },
    "colab_type": "code",
    "collapsed": true,
    "id": "VNWWUSir6iko"
   },
   "outputs": [],
   "source": [
    "\n",
    "    "
   ]
  },
  {
   "cell_type": "code",
   "execution_count": 0,
   "metadata": {
    "colab": {
     "autoexec": {
      "startup": false,
      "wait_interval": 0
     }
    },
    "colab_type": "code",
    "collapsed": true,
    "id": "CJzn9OEZ6ik5"
   },
   "outputs": [],
   "source": [
    "df = pd.read_csv('data/2330+Us.csv' , encoding='big5')"
   ]
  },
  {
   "cell_type": "code",
   "execution_count": 0,
   "metadata": {
    "colab": {
     "autoexec": {
      "startup": false,
      "wait_interval": 0
     }
    },
    "colab_type": "code",
    "collapsed": false,
    "id": "eccujqpj6ik8",
    "outputId": "7a6729d5-c171-4628-d42d-4a588cd39f0f"
   },
   "outputs": [
    {
     "data": {
      "text/html": [
       "<div>\n",
       "<style scoped>\n",
       "    .dataframe tbody tr th:only-of-type {\n",
       "        vertical-align: middle;\n",
       "    }\n",
       "\n",
       "    .dataframe tbody tr th {\n",
       "        vertical-align: top;\n",
       "    }\n",
       "\n",
       "    .dataframe thead th {\n",
       "        text-align: right;\n",
       "    }\n",
       "</style>\n",
       "<table border=\"1\" class=\"dataframe\">\n",
       "  <thead>\n",
       "    <tr style=\"text-align: right;\">\n",
       "      <th></th>\n",
       "      <th>Date</th>\n",
       "      <th>Open</th>\n",
       "      <th>High</th>\n",
       "      <th>Low</th>\n",
       "      <th>Close</th>\n",
       "      <th>SMA5</th>\n",
       "      <th>SMA10</th>\n",
       "      <th>SMA20</th>\n",
       "      <th>SMA60</th>\n",
       "      <th>Vol</th>\n",
       "      <th>...</th>\n",
       "      <th>MA10</th>\n",
       "      <th>DIF</th>\n",
       "      <th>MACD9</th>\n",
       "      <th>OSC</th>\n",
       "      <th>K</th>\n",
       "      <th>D</th>\n",
       "      <th>S_P500</th>\n",
       "      <th>SOXX</th>\n",
       "      <th>ADR</th>\n",
       "      <th>TaiwanAll</th>\n",
       "    </tr>\n",
       "  </thead>\n",
       "  <tbody>\n",
       "    <tr>\n",
       "      <th>1651</th>\n",
       "      <td>2018/3/31</td>\n",
       "      <td>247.5</td>\n",
       "      <td>249.0</td>\n",
       "      <td>246.5</td>\n",
       "      <td>247.5</td>\n",
       "      <td>246.7</td>\n",
       "      <td>247.90</td>\n",
       "      <td>250.55</td>\n",
       "      <td>246.70</td>\n",
       "      <td>3604</td>\n",
       "      <td>...</td>\n",
       "      <td>29283</td>\n",
       "      <td>-0.18</td>\n",
       "      <td>0.63</td>\n",
       "      <td>-0.82</td>\n",
       "      <td>34.38%</td>\n",
       "      <td>33.22%</td>\n",
       "      <td>2640.87</td>\n",
       "      <td>1328.90</td>\n",
       "      <td>43.759998</td>\n",
       "      <td>10919.49</td>\n",
       "    </tr>\n",
       "    <tr>\n",
       "      <th>1652</th>\n",
       "      <td>2018/4/2</td>\n",
       "      <td>248.5</td>\n",
       "      <td>249.0</td>\n",
       "      <td>245.0</td>\n",
       "      <td>246.5</td>\n",
       "      <td>245.8</td>\n",
       "      <td>247.25</td>\n",
       "      <td>250.38</td>\n",
       "      <td>247.04</td>\n",
       "      <td>19029</td>\n",
       "      <td>...</td>\n",
       "      <td>28952</td>\n",
       "      <td>-0.28</td>\n",
       "      <td>0.45</td>\n",
       "      <td>-0.73</td>\n",
       "      <td>35.74%</td>\n",
       "      <td>34.06%</td>\n",
       "      <td>2640.87</td>\n",
       "      <td>1328.90</td>\n",
       "      <td>43.759998</td>\n",
       "      <td>10888.27</td>\n",
       "    </tr>\n",
       "    <tr>\n",
       "      <th>1653</th>\n",
       "      <td>2018/4/3</td>\n",
       "      <td>243.0</td>\n",
       "      <td>244.5</td>\n",
       "      <td>242.0</td>\n",
       "      <td>244.0</td>\n",
       "      <td>245.6</td>\n",
       "      <td>246.40</td>\n",
       "      <td>250.23</td>\n",
       "      <td>247.28</td>\n",
       "      <td>35814</td>\n",
       "      <td>...</td>\n",
       "      <td>29236</td>\n",
       "      <td>-0.60</td>\n",
       "      <td>0.24</td>\n",
       "      <td>-0.84</td>\n",
       "      <td>32.60%</td>\n",
       "      <td>33.57%</td>\n",
       "      <td>2581.88</td>\n",
       "      <td>1277.01</td>\n",
       "      <td>42.500000</td>\n",
       "      <td>10821.53</td>\n",
       "    </tr>\n",
       "    <tr>\n",
       "      <th>1654</th>\n",
       "      <td>2018/4/9</td>\n",
       "      <td>248.0</td>\n",
       "      <td>248.0</td>\n",
       "      <td>243.5</td>\n",
       "      <td>245.0</td>\n",
       "      <td>245.8</td>\n",
       "      <td>245.75</td>\n",
       "      <td>250.00</td>\n",
       "      <td>247.49</td>\n",
       "      <td>35466</td>\n",
       "      <td>...</td>\n",
       "      <td>30082</td>\n",
       "      <td>-0.70</td>\n",
       "      <td>0.05</td>\n",
       "      <td>-0.76</td>\n",
       "      <td>34.01%</td>\n",
       "      <td>33.72%</td>\n",
       "      <td>2614.45</td>\n",
       "      <td>1302.09</td>\n",
       "      <td>43.480000</td>\n",
       "      <td>10893.53</td>\n",
       "    </tr>\n",
       "    <tr>\n",
       "      <th>1655</th>\n",
       "      <td>2018/4/10</td>\n",
       "      <td>244.5</td>\n",
       "      <td>249.0</td>\n",
       "      <td>243.5</td>\n",
       "      <td>245.5</td>\n",
       "      <td>245.7</td>\n",
       "      <td>245.80</td>\n",
       "      <td>249.75</td>\n",
       "      <td>247.63</td>\n",
       "      <td>25269</td>\n",
       "      <td>...</td>\n",
       "      <td>27312</td>\n",
       "      <td>-0.74</td>\n",
       "      <td>-0.11</td>\n",
       "      <td>-0.63</td>\n",
       "      <td>35.64%</td>\n",
       "      <td>34.36%</td>\n",
       "      <td>2613.16</td>\n",
       "      <td>1273.80</td>\n",
       "      <td>43.070000</td>\n",
       "      <td>10927.18</td>\n",
       "    </tr>\n",
       "    <tr>\n",
       "      <th>1656</th>\n",
       "      <td>2018/4/11</td>\n",
       "      <td>246.5</td>\n",
       "      <td>248.5</td>\n",
       "      <td>246.5</td>\n",
       "      <td>248.0</td>\n",
       "      <td>245.8</td>\n",
       "      <td>246.25</td>\n",
       "      <td>249.45</td>\n",
       "      <td>247.78</td>\n",
       "      <td>21778</td>\n",
       "      <td>...</td>\n",
       "      <td>25541</td>\n",
       "      <td>-0.61</td>\n",
       "      <td>-0.21</td>\n",
       "      <td>-0.40</td>\n",
       "      <td>50.43%</td>\n",
       "      <td>39.72%</td>\n",
       "      <td>2656.87</td>\n",
       "      <td>1314.54</td>\n",
       "      <td>43.580002</td>\n",
       "      <td>10974.02</td>\n",
       "    </tr>\n",
       "    <tr>\n",
       "      <th>1657</th>\n",
       "      <td>2018/4/12</td>\n",
       "      <td>248.5</td>\n",
       "      <td>248.5</td>\n",
       "      <td>244.0</td>\n",
       "      <td>245.0</td>\n",
       "      <td>245.5</td>\n",
       "      <td>245.65</td>\n",
       "      <td>248.75</td>\n",
       "      <td>247.86</td>\n",
       "      <td>20477</td>\n",
       "      <td>...</td>\n",
       "      <td>24478</td>\n",
       "      <td>-0.67</td>\n",
       "      <td>-0.30</td>\n",
       "      <td>-0.37</td>\n",
       "      <td>46.95%</td>\n",
       "      <td>42.13%</td>\n",
       "      <td>2642.19</td>\n",
       "      <td>1315.06</td>\n",
       "      <td>43.380001</td>\n",
       "      <td>10955.29</td>\n",
       "    </tr>\n",
       "    <tr>\n",
       "      <th>1658</th>\n",
       "      <td>2018/4/13</td>\n",
       "      <td>246.0</td>\n",
       "      <td>246.0</td>\n",
       "      <td>244.0</td>\n",
       "      <td>244.5</td>\n",
       "      <td>245.6</td>\n",
       "      <td>245.60</td>\n",
       "      <td>248.13</td>\n",
       "      <td>247.90</td>\n",
       "      <td>19947</td>\n",
       "      <td>...</td>\n",
       "      <td>23481</td>\n",
       "      <td>-0.78</td>\n",
       "      <td>-0.39</td>\n",
       "      <td>-0.38</td>\n",
       "      <td>42.41%</td>\n",
       "      <td>42.22%</td>\n",
       "      <td>2663.99</td>\n",
       "      <td>1339.66</td>\n",
       "      <td>43.849998</td>\n",
       "      <td>10965.39</td>\n",
       "    </tr>\n",
       "    <tr>\n",
       "      <th>1659</th>\n",
       "      <td>2018/4/16</td>\n",
       "      <td>243.0</td>\n",
       "      <td>244.0</td>\n",
       "      <td>242.0</td>\n",
       "      <td>243.5</td>\n",
       "      <td>245.3</td>\n",
       "      <td>245.55</td>\n",
       "      <td>247.55</td>\n",
       "      <td>247.93</td>\n",
       "      <td>21609</td>\n",
       "      <td>...</td>\n",
       "      <td>21999</td>\n",
       "      <td>-0.97</td>\n",
       "      <td>-0.51</td>\n",
       "      <td>-0.46</td>\n",
       "      <td>35.42%</td>\n",
       "      <td>39.95%</td>\n",
       "      <td>2656.30</td>\n",
       "      <td>1329.40</td>\n",
       "      <td>42.650002</td>\n",
       "      <td>10954.55</td>\n",
       "    </tr>\n",
       "    <tr>\n",
       "      <th>1660</th>\n",
       "      <td>2018/4/17</td>\n",
       "      <td>243.0</td>\n",
       "      <td>243.5</td>\n",
       "      <td>237.5</td>\n",
       "      <td>238.0</td>\n",
       "      <td>243.8</td>\n",
       "      <td>244.75</td>\n",
       "      <td>246.70</td>\n",
       "      <td>247.95</td>\n",
       "      <td>42756</td>\n",
       "      <td>...</td>\n",
       "      <td>24575</td>\n",
       "      <td>-1.43</td>\n",
       "      <td>-0.70</td>\n",
       "      <td>-0.74</td>\n",
       "      <td>25.06%</td>\n",
       "      <td>34.99%</td>\n",
       "      <td>2677.84</td>\n",
       "      <td>1332.52</td>\n",
       "      <td>42.869999</td>\n",
       "      <td>10810.45</td>\n",
       "    </tr>\n",
       "  </tbody>\n",
       "</table>\n",
       "<p>10 rows × 21 columns</p>\n",
       "</div>"
      ],
      "text/plain": [
       "           Date   Open   High    Low  Close   SMA5   SMA10   SMA20   SMA60  \\\n",
       "1651  2018/3/31  247.5  249.0  246.5  247.5  246.7  247.90  250.55  246.70   \n",
       "1652   2018/4/2  248.5  249.0  245.0  246.5  245.8  247.25  250.38  247.04   \n",
       "1653   2018/4/3  243.0  244.5  242.0  244.0  245.6  246.40  250.23  247.28   \n",
       "1654   2018/4/9  248.0  248.0  243.5  245.0  245.8  245.75  250.00  247.49   \n",
       "1655  2018/4/10  244.5  249.0  243.5  245.5  245.7  245.80  249.75  247.63   \n",
       "1656  2018/4/11  246.5  248.5  246.5  248.0  245.8  246.25  249.45  247.78   \n",
       "1657  2018/4/12  248.5  248.5  244.0  245.0  245.5  245.65  248.75  247.86   \n",
       "1658  2018/4/13  246.0  246.0  244.0  244.5  245.6  245.60  248.13  247.90   \n",
       "1659  2018/4/16  243.0  244.0  242.0  243.5  245.3  245.55  247.55  247.93   \n",
       "1660  2018/4/17  243.0  243.5  237.5  238.0  243.8  244.75  246.70  247.95   \n",
       "\n",
       "        Vol    ...       MA10   DIF  MACD9   OSC       K       D   S_P500  \\\n",
       "1651   3604    ...      29283 -0.18   0.63 -0.82  34.38%  33.22%  2640.87   \n",
       "1652  19029    ...      28952 -0.28   0.45 -0.73  35.74%  34.06%  2640.87   \n",
       "1653  35814    ...      29236 -0.60   0.24 -0.84  32.60%  33.57%  2581.88   \n",
       "1654  35466    ...      30082 -0.70   0.05 -0.76  34.01%  33.72%  2614.45   \n",
       "1655  25269    ...      27312 -0.74  -0.11 -0.63  35.64%  34.36%  2613.16   \n",
       "1656  21778    ...      25541 -0.61  -0.21 -0.40  50.43%  39.72%  2656.87   \n",
       "1657  20477    ...      24478 -0.67  -0.30 -0.37  46.95%  42.13%  2642.19   \n",
       "1658  19947    ...      23481 -0.78  -0.39 -0.38  42.41%  42.22%  2663.99   \n",
       "1659  21609    ...      21999 -0.97  -0.51 -0.46  35.42%  39.95%  2656.30   \n",
       "1660  42756    ...      24575 -1.43  -0.70 -0.74  25.06%  34.99%  2677.84   \n",
       "\n",
       "         SOXX        ADR  TaiwanAll  \n",
       "1651  1328.90  43.759998   10919.49  \n",
       "1652  1328.90  43.759998   10888.27  \n",
       "1653  1277.01  42.500000   10821.53  \n",
       "1654  1302.09  43.480000   10893.53  \n",
       "1655  1273.80  43.070000   10927.18  \n",
       "1656  1314.54  43.580002   10974.02  \n",
       "1657  1315.06  43.380001   10955.29  \n",
       "1658  1339.66  43.849998   10965.39  \n",
       "1659  1329.40  42.650002   10954.55  \n",
       "1660  1332.52  42.869999   10810.45  \n",
       "\n",
       "[10 rows x 21 columns]"
      ]
     },
     "execution_count": 9,
     "metadata": {
      "tags": []
     },
     "output_type": "execute_result"
    }
   ],
   "source": [
    "df.tail(10)"
   ]
  },
  {
   "cell_type": "code",
   "execution_count": 0,
   "metadata": {
    "colab": {
     "autoexec": {
      "startup": false,
      "wait_interval": 0
     }
    },
    "colab_type": "code",
    "collapsed": true,
    "id": "odxATGSE6ilB"
   },
   "outputs": [],
   "source": [
    "def batch_data( time_steps,sd,batch_size,feature_list):\n",
    "\n",
    "    df = pd.read_csv('data/2377.csv' , encoding='big5')\n",
    "\n",
    "    df['RSI6'] = df['RSIx6'].str.replace('%','').astype('float') \n",
    "    df['RSI6'] = df['RSI6'] * 0.01\n",
    "    df['RSI12'] = df['RSIx12'].str.replace('%','').astype('float') \n",
    "    df['RSI12'] = df['RSI12'] * 0.01\n",
    "    \n",
    "    \n",
    "\n",
    "    df['K'] = df['K'].str.replace('%','').astype('float')\n",
    "    df['K'] = df['K'] * 0.01\n",
    "    \n",
    "    df['D'] = df['D'].str.replace('%','').astype('float')\n",
    "    df['D'] = df['D'] * 0.01\n",
    "\n",
    "    df['Vol']= df['Vol'].astype('float')\n",
    "    df['Open'] = df['Open'].astype('float')\n",
    "    df['High'] = df['High'].astype('float')\n",
    "    df['Low'] = df['Low'].astype('float')\n",
    "    df['Close'] = df['Close'].astype('float')\n",
    "    df['SMA5'] = df['SMA5'].astype('float')\n",
    "    df['SMA10'] = df['SMA10'].astype('float')\n",
    "    df['SMA20'] = df['SMA20'].astype('float')\n",
    "    df['SMA60'] = df['SMA60'].astype('float')\n",
    "    df['MA5'] = df['MA5'].astype('float')\n",
    "    df['MA10'] = df['MA10'].astype('float')\n",
    "    \n",
    "    \n",
    "\n",
    "    close = df['Close']\n",
    "    s = 0.07\n",
    "    df['three']=((close.shift(-1)-close)/close>s).astype('int')\n",
    "    df['three']=((close.shift(-2)-close)/close>s).astype('int')\n",
    "    df['three']=((close.shift(-3)-close)/close>s).astype('int')\n",
    "    df['four']=((close.shift(-4)-close)/close>s).astype('int')\n",
    "    df['five']=((close.shift(-5)-close)/close>s).astype('int')\n",
    "    df['six']=((close.shift(-6)-close)/close>s).astype('int')\n",
    "    df['seven']=((close.shift(-7)-close)/close>s).astype('int')\n",
    "    df['eight']=((close.shift(-8)-close)/close>s).astype('int')\n",
    "    df['nine']=((close.shift(-9)-close)/close>s).astype('int')\n",
    "    df['ten']=((close.shift(-10)-close)/close>s).astype('int')\n",
    "    df['eleven']=((close.shift(-11)-close)/close>s).astype('int')\n",
    "    df['twelve']=((close.shift(-12)-close)/close>s).astype('int')\n",
    "    df['thirteen']=((close.shift(-13)-close)/close>s).astype('int')\n",
    "    df['fourteen']=((close.shift(-14)-close)/close>s).astype('int')\n",
    "    \n",
    "    df['label'] = df['three']+df['four']+df['five']+df['six']+df['seven']+df['eight']+df['nine']+df['ten']+df['eleven']\n",
    "    df['label'] = (df['label']>0).astype('int')\n",
    "\n",
    "    Y =df['label']\n",
    "    Y = np_utils.to_categorical(Y)\n",
    "\n",
    "    X = df[feature_list]\n",
    "    \n",
    "\n",
    "    Y = np.array(Y)\n",
    "    X = np.array(X)\n",
    "    \n",
    "    m = MinMaxScaler(feature_range=(0,1))\n",
    "    X=m.fit_transform(X)\n",
    "\n",
    "    X_t = []\n",
    "    Y_t = []\n",
    "    \n",
    "    \n",
    "    \n",
    "    \n",
    "    for i in range(0, X.shape[0] - time_steps):\n",
    "        \n",
    "\n",
    "        X_t.append(X[i:i+time_steps])\n",
    "        Y_t.append(Y[i+time_steps])\n",
    "    X_t = np.array(X_t)\n",
    "    Y_t = np.array(Y_t)\n",
    "    \n",
    "    dn = X_t.shape[0]%batch_size\n",
    "    X_t = X_t[dn:]\n",
    "    Y_t = Y_t[dn:]\n",
    "    \n",
    "    \n",
    "      \n",
    "    \n",
    "    X_t_batch_train=X_t[:-batch_size]\n",
    "    Y_t_batch_train=Y_t[:-batch_size]\n",
    "\n",
    "    X_t_batch_test=X_t[-batch_size:]\n",
    "    Y_t_batch_test=Y_t[-batch_size:]\n",
    "    return X_t_batch_train,Y_t_batch_train,X_t_batch_test,Y_t_batch_test,df\n",
    "    \n",
    "    "
   ]
  },
  {
   "cell_type": "code",
   "execution_count": 0,
   "metadata": {
    "colab": {
     "autoexec": {
      "startup": false,
      "wait_interval": 0
     }
    },
    "colab_type": "code",
    "collapsed": false,
    "id": "sjvZQfoH6ilF",
    "outputId": "c6c572a0-339c-4866-cccc-cc4c4a174d6b"
   },
   "outputs": [
    {
     "data": {
      "text/html": [
       "<div>\n",
       "<style scoped>\n",
       "    .dataframe tbody tr th:only-of-type {\n",
       "        vertical-align: middle;\n",
       "    }\n",
       "\n",
       "    .dataframe tbody tr th {\n",
       "        vertical-align: top;\n",
       "    }\n",
       "\n",
       "    .dataframe thead th {\n",
       "        text-align: right;\n",
       "    }\n",
       "</style>\n",
       "<table border=\"1\" class=\"dataframe\">\n",
       "  <thead>\n",
       "    <tr style=\"text-align: right;\">\n",
       "      <th></th>\n",
       "      <th>Date</th>\n",
       "      <th>Open</th>\n",
       "      <th>High</th>\n",
       "      <th>Low</th>\n",
       "      <th>Close</th>\n",
       "      <th>SMA5</th>\n",
       "      <th>SMA10</th>\n",
       "      <th>SMA20</th>\n",
       "      <th>SMA60</th>\n",
       "      <th>Vol</th>\n",
       "      <th>...</th>\n",
       "      <th>MA10</th>\n",
       "      <th>DIF</th>\n",
       "      <th>MACD9</th>\n",
       "      <th>OSC</th>\n",
       "      <th>K</th>\n",
       "      <th>D</th>\n",
       "      <th>S_P500</th>\n",
       "      <th>SOXX</th>\n",
       "      <th>ADR</th>\n",
       "      <th>TaiwanAll</th>\n",
       "    </tr>\n",
       "  </thead>\n",
       "  <tbody>\n",
       "    <tr>\n",
       "      <th>0</th>\n",
       "      <td>2011/7/20</td>\n",
       "      <td>69.7</td>\n",
       "      <td>71.7</td>\n",
       "      <td>69.4</td>\n",
       "      <td>71.6</td>\n",
       "      <td>70.08</td>\n",
       "      <td>70.83</td>\n",
       "      <td>71.79</td>\n",
       "      <td>74.02</td>\n",
       "      <td>58272</td>\n",
       "      <td>...</td>\n",
       "      <td>55917</td>\n",
       "      <td>-1.15</td>\n",
       "      <td>-1.00</td>\n",
       "      <td>-0.15</td>\n",
       "      <td>32.35%</td>\n",
       "      <td>26.05%</td>\n",
       "      <td>1326.73</td>\n",
       "      <td>397.41</td>\n",
       "      <td>12.22</td>\n",
       "      <td>8706.17</td>\n",
       "    </tr>\n",
       "    <tr>\n",
       "      <th>1</th>\n",
       "      <td>2011/7/21</td>\n",
       "      <td>71.4</td>\n",
       "      <td>71.6</td>\n",
       "      <td>70.6</td>\n",
       "      <td>71.6</td>\n",
       "      <td>70.26</td>\n",
       "      <td>70.83</td>\n",
       "      <td>71.66</td>\n",
       "      <td>74.05</td>\n",
       "      <td>33277</td>\n",
       "      <td>...</td>\n",
       "      <td>54470</td>\n",
       "      <td>-1.04</td>\n",
       "      <td>-1.01</td>\n",
       "      <td>-0.03</td>\n",
       "      <td>46.77%</td>\n",
       "      <td>32.96%</td>\n",
       "      <td>1325.84</td>\n",
       "      <td>395.11</td>\n",
       "      <td>12.47</td>\n",
       "      <td>8717.14</td>\n",
       "    </tr>\n",
       "    <tr>\n",
       "      <th>2</th>\n",
       "      <td>2011/7/22</td>\n",
       "      <td>72.4</td>\n",
       "      <td>72.4</td>\n",
       "      <td>71.7</td>\n",
       "      <td>72.0</td>\n",
       "      <td>70.68</td>\n",
       "      <td>70.78</td>\n",
       "      <td>71.62</td>\n",
       "      <td>74.04</td>\n",
       "      <td>38244</td>\n",
       "      <td>...</td>\n",
       "      <td>52998</td>\n",
       "      <td>-0.88</td>\n",
       "      <td>-0.98</td>\n",
       "      <td>0.10</td>\n",
       "      <td>60.35%</td>\n",
       "      <td>42.09%</td>\n",
       "      <td>1343.80</td>\n",
       "      <td>398.88</td>\n",
       "      <td>12.57</td>\n",
       "      <td>8765.32</td>\n",
       "    </tr>\n",
       "    <tr>\n",
       "      <th>3</th>\n",
       "      <td>2011/7/25</td>\n",
       "      <td>72.4</td>\n",
       "      <td>72.5</td>\n",
       "      <td>71.4</td>\n",
       "      <td>72.0</td>\n",
       "      <td>71.14</td>\n",
       "      <td>70.85</td>\n",
       "      <td>71.62</td>\n",
       "      <td>74.02</td>\n",
       "      <td>34963</td>\n",
       "      <td>...</td>\n",
       "      <td>51283</td>\n",
       "      <td>-0.76</td>\n",
       "      <td>-0.94</td>\n",
       "      <td>0.18</td>\n",
       "      <td>69.40%</td>\n",
       "      <td>51.19%</td>\n",
       "      <td>1345.02</td>\n",
       "      <td>408.56</td>\n",
       "      <td>12.98</td>\n",
       "      <td>8683.51</td>\n",
       "    </tr>\n",
       "    <tr>\n",
       "      <th>4</th>\n",
       "      <td>2011/7/26</td>\n",
       "      <td>72.3</td>\n",
       "      <td>73.7</td>\n",
       "      <td>72.3</td>\n",
       "      <td>73.7</td>\n",
       "      <td>72.18</td>\n",
       "      <td>71.19</td>\n",
       "      <td>71.68</td>\n",
       "      <td>74.03</td>\n",
       "      <td>53159</td>\n",
       "      <td>...</td>\n",
       "      <td>52599</td>\n",
       "      <td>-0.54</td>\n",
       "      <td>-0.86</td>\n",
       "      <td>0.32</td>\n",
       "      <td>79.60%</td>\n",
       "      <td>60.66%</td>\n",
       "      <td>1337.43</td>\n",
       "      <td>403.08</td>\n",
       "      <td>12.75</td>\n",
       "      <td>8794.24</td>\n",
       "    </tr>\n",
       "  </tbody>\n",
       "</table>\n",
       "<p>5 rows × 21 columns</p>\n",
       "</div>"
      ],
      "text/plain": [
       "        Date  Open  High   Low  Close   SMA5  SMA10  SMA20  SMA60    Vol  \\\n",
       "0  2011/7/20  69.7  71.7  69.4   71.6  70.08  70.83  71.79  74.02  58272   \n",
       "1  2011/7/21  71.4  71.6  70.6   71.6  70.26  70.83  71.66  74.05  33277   \n",
       "2  2011/7/22  72.4  72.4  71.7   72.0  70.68  70.78  71.62  74.04  38244   \n",
       "3  2011/7/25  72.4  72.5  71.4   72.0  71.14  70.85  71.62  74.02  34963   \n",
       "4  2011/7/26  72.3  73.7  72.3   73.7  72.18  71.19  71.68  74.03  53159   \n",
       "\n",
       "     ...       MA10   DIF  MACD9   OSC       K       D   S_P500    SOXX  \\\n",
       "0    ...      55917 -1.15  -1.00 -0.15  32.35%  26.05%  1326.73  397.41   \n",
       "1    ...      54470 -1.04  -1.01 -0.03  46.77%  32.96%  1325.84  395.11   \n",
       "2    ...      52998 -0.88  -0.98  0.10  60.35%  42.09%  1343.80  398.88   \n",
       "3    ...      51283 -0.76  -0.94  0.18  69.40%  51.19%  1345.02  408.56   \n",
       "4    ...      52599 -0.54  -0.86  0.32  79.60%  60.66%  1337.43  403.08   \n",
       "\n",
       "     ADR  TaiwanAll  \n",
       "0  12.22    8706.17  \n",
       "1  12.47    8717.14  \n",
       "2  12.57    8765.32  \n",
       "3  12.98    8683.51  \n",
       "4  12.75    8794.24  \n",
       "\n",
       "[5 rows x 21 columns]"
      ]
     },
     "execution_count": 11,
     "metadata": {
      "tags": []
     },
     "output_type": "execute_result"
    }
   ],
   "source": [
    "df.head()"
   ]
  },
  {
   "cell_type": "code",
   "execution_count": 0,
   "metadata": {
    "colab": {
     "autoexec": {
      "startup": false,
      "wait_interval": 0
     }
    },
    "colab_type": "code",
    "collapsed": false,
    "id": "lneWFWGv6ilM",
    "outputId": "f98b05bc-7769-46bd-e255-225f81ffff10"
   },
   "outputs": [
    {
     "data": {
      "text/plain": [
       "(1661, 21)"
      ]
     },
     "execution_count": 12,
     "metadata": {
      "tags": []
     },
     "output_type": "execute_result"
    }
   ],
   "source": [
    "df.shape"
   ]
  },
  {
   "cell_type": "code",
   "execution_count": 0,
   "metadata": {
    "colab": {
     "autoexec": {
      "startup": false,
      "wait_interval": 0
     }
    },
    "colab_type": "code",
    "collapsed": false,
    "id": "QC0dgZ-l6ilR",
    "outputId": "ab5c0ebe-f658-4cb6-d343-3106958a8287"
   },
   "outputs": [
    {
     "data": {
      "image/png": "[encoded data removed]",
      "text/plain": [
       "<Figure size 432x288 with 1 Axes>"
      ]
     },
     "metadata": {
      "tags": []
     },
     "output_type": "display_data"
    }
   ],
   "source": [
    "#dates = pd.to_datetime(df['Date'] , format='%Y%m%d')\n",
    "plt.plot(df['Close'])\n",
    "plt.xlabel('Days')\n",
    "plt.ylabel('Price')\n",
    "plt.show()"
   ]
  },
  {
   "cell_type": "code",
   "execution_count": 0,
   "metadata": {
    "colab": {
     "autoexec": {
      "startup": false,
      "wait_interval": 0
     }
    },
    "colab_type": "code",
    "collapsed": true,
    "id": "gmh5Lu386ilV"
   },
   "outputs": [],
   "source": [
    "batch_size= 128\n",
    "LR= 0.005\n",
    "epoch= 1000\n",
    "input_size= 6\n",
    "time_steps= 6\n",
    "# sd = -3"
   ]
  },
  {
   "cell_type": "code",
   "execution_count": 0,
   "metadata": {
    "colab": {
     "autoexec": {
      "startup": false,
      "wait_interval": 0
     }
    },
    "colab_type": "code",
    "collapsed": true,
    "id": "FQsv-NbI6ilZ"
   },
   "outputs": [],
   "source": [
    "# feature_list_try = ['SMA5', 'SMA10', 'SMA20',\n",
    "#        'SMA60', 'MA5', 'MA10', 'DIF', 'MACD9', 'OSC', 'K', 'D','S_P500','SOXX','ADR']\n",
    "# feature_list_try = ['S_P500','SOXX','ADR','RSI6','RSI12']\n",
    "# feature_list_try = ['RSI6','TaiwanAll','RSI12','SMA5','MA5']\n",
    "# feature_list_try = ['TaiwanAll','RSI6','RSI12','SMA5','MA5']"
   ]
  },
  {
   "cell_type": "code",
   "execution_count": null,
   "metadata": {
    "colab": {
     "autoexec": {
      "startup": false,
      "wait_interval": 0
     }
    },
    "colab_type": "code",
    "collapsed": false,
    "id": "dhLX-il76ilb",
    "outputId": "02e22f83-a948-488b-a68f-28a33f74eb55"
   },
   "outputs": [],
   "source": [
    "\n",
    "\n",
    "feature_list = ['Open', 'High', 'Low', 'Close','Vol','SMA5','MA5']\n",
    "input_size=len(feature_list)\n",
    "model =Sequential()\n",
    "model.add(LSTM(\n",
    "            batch_input_shape=(batch_size,time_steps,input_size),\n",
    "            output_dim=256,\n",
    "            return_sequences=True,\n",
    "            stateful=False,\n",
    "        ))\n",
    "model.add(Dropout(0.6))\n",
    "model.add(LSTM(\n",
    "        output_dim=128,\n",
    "            return_sequences=False,\n",
    "            stateful=False,\n",
    "         ))\n",
    "model.add(Dropout(0.6))\n",
    "model.add(Dense(256))\n",
    "model.add(Dropout(0.4))\n",
    "model.add(Dense(128))\n",
    "model.add(Dropout(0.4))\n",
    "model.add(Dense(64))\n",
    "model.add(Dropout(0.4))\n",
    "model.add(Dense(2,activation='softmax'))\n",
    "adam = Adam(LR)\n",
    "#     model.summary()\n",
    "model.compile(optimizer=adam,\n",
    "                  loss='categorical_crossentropy',metrics=['accuracy'])\n",
    "X_t_batch_train,Y_t_batch_train,X_t_batch_test,Y_t_batch_test,df=batch_data(time_steps,-sd,batch_size,feature_list)\n",
    "train_history=model.fit(X_t_batch_train, Y_t_batch_train, epochs=epoch, batch_size=batch_size,verbose=0,validation_data=(X_t_batch_test,Y_t_batch_test),shuffle=True)\n",
    "\n",
    "score = model.evaluate(X_t_batch_train,Y_t_batch_train, verbose=1,batch_size=128)\n",
    "print('train_score:', score)\n",
    "score = model.evaluate(X_t_batch_test,Y_t_batch_test, verbose=1,batch_size=128)\n",
    "print('test_score:', score)"
   ]
  },
  {
   "cell_type": "code",
   "execution_count": 0,
   "metadata": {
    "colab": {
     "autoexec": {
      "startup": false,
      "wait_interval": 0
     }
    },
    "colab_type": "code",
    "collapsed": true,
    "id": "qMKYeteH6ilq"
   },
   "outputs": [],
   "source": [
    "df = pd.read_csv('data/2330+Us.csv' , encoding='big5')\n",
    "df_val = df[-batch_size:]"
   ]
  },
  {
   "cell_type": "code",
   "execution_count": 0,
   "metadata": {
    "colab": {
     "autoexec": {
      "startup": false,
      "wait_interval": 0
     }
    },
    "colab_type": "code",
    "collapsed": true,
    "id": "NlsfvLeq6ils"
   },
   "outputs": [],
   "source": [
    "predictions = Y_t_batch_test[:,1]"
   ]
  },
  {
   "cell_type": "code",
   "execution_count": 0,
   "metadata": {
    "colab": {
     "autoexec": {
      "startup": false,
      "wait_interval": 0
     }
    },
    "colab_type": "code",
    "collapsed": false,
    "id": "h1GJ9T0I6ilv",
    "outputId": "6afb7102-0d85-46c4-c019-23396d6e4e15"
   },
   "outputs": [
    {
     "data": {
      "text/plain": [
       "Date         2017/10/3\n",
       "Open               219\n",
       "High               223\n",
       "Low                219\n",
       "Close            222.5\n",
       "SMA5               218\n",
       "SMA10           217.55\n",
       "SMA20            218.2\n",
       "SMA60           215.86\n",
       "Vol              38331\n",
       "MA5              25303\n",
       "MA10             23488\n",
       "DIF               0.66\n",
       "MACD9             0.61\n",
       "OSC               0.05\n",
       "K               59.02%\n",
       "D               41.23%\n",
       "S_P500         2534.58\n",
       "SOXX           1182.43\n",
       "ADR              38.44\n",
       "TaiwanAll      10469.4\n",
       "Name: 1533, dtype: object"
      ]
     },
     "execution_count": 23,
     "metadata": {
      "tags": []
     },
     "output_type": "execute_result"
    }
   ],
   "source": [
    "df_val.iloc[0]"
   ]
  },
  {
   "cell_type": "code",
   "execution_count": 0,
   "metadata": {
    "colab": {
     "autoexec": {
      "startup": false,
      "wait_interval": 0
     }
    },
    "colab_type": "code",
    "collapsed": false,
    "id": "Fz_KCZ5n6ily",
    "outputId": "358366d4-4ff1-4fbc-ea0a-a85bc9c85768"
   },
   "outputs": [
    {
     "name": "stdout",
     "output_type": "stream",
     "text": [
      "----\n",
      "59.02 41.23\n",
      "++++++\n",
      "4\n",
      "----\n",
      "92.86 80.88\n",
      "++++++\n",
      "1\n",
      "----\n",
      "53.1 62.79\n",
      "++++++\n",
      "14\n",
      "----\n",
      "25.97 29.62\n",
      "++++++\n",
      "14\n",
      "----\n",
      "45.57 44.18\n",
      "++++++\n",
      "7\n",
      "----\n",
      "84.47 85.36\n",
      "++++++\n",
      "1\n",
      "----\n",
      "66.74 76.63\n",
      "++++++\n",
      "2\n",
      "----\n",
      "78.82 75.5\n",
      "++++++\n",
      "1\n",
      "----\n",
      "88.68 81.57\n",
      "++++++\n",
      "1\n",
      "----\n",
      "94.59 88.2\n",
      "++++++\n",
      "1\n",
      "----\n",
      "32.68 45.63\n",
      "++++++\n",
      "14\n",
      "----\n",
      "80.39 71.56\n",
      "++++++\n",
      "1\n",
      "----\n",
      "89.94 80.65\n",
      "++++++\n",
      "1\n",
      "----\n",
      "86.15 84.57\n",
      "++++++\n",
      "1\n",
      "----\n",
      "77.0 81.23\n",
      "++++++\n",
      "14\n"
     ]
    }
   ],
   "source": [
    "holding = 0\n",
    "\n",
    "trade_record=[]\n",
    "profit=[]\n",
    "for i in range(len(predictions)):\n",
    "    prediction = predictions[i]\n",
    "    price = float(df_val.iloc[i]['Close'])\n",
    "    K = float(df_val.iloc[i]['K'].replace('%',''))\n",
    "    D = float(df_val.iloc[i]['D'].replace('%',''))\n",
    "#     RSI = float(df_val.iloc[i]['RSIx6'].replace('%',''))\n",
    "    \n",
    "    if holding == 0:\n",
    "        if prediction ==1 or (K<30 and D<30)  :\n",
    "            p_d = [price,i,'BUY']\n",
    "            trade_record.append(p_d)\n",
    "            holding=1\n",
    "            continue\n",
    "    if holding ==1:\n",
    "        last_trade = trade_record[-1]\n",
    "        if last_trade[2]=='BUY':\n",
    "            buy_price=last_trade[0]\n",
    "            buy_i = last_trade[1]\n",
    "            if (price/buy_price-1)>0.07 or i-buy_i>=14  or (K>70 and D>70) :\n",
    "                print('++++++')\n",
    "                print(i-buy_i)\n",
    "#                 print((buy_i-i))eleven\n",
    "                p_d_s=[price,i,'SELL']\n",
    "                trade_record.append(p_d_s)\n",
    "                holding=0\n",
    "                profit.append(price-buy_price)"
   ]
  },
  {
   "cell_type": "code",
   "execution_count": 0,
   "metadata": {
    "colab": {
     "autoexec": {
      "startup": false,
      "wait_interval": 0
     }
    },
    "colab_type": "code",
    "collapsed": false,
    "id": "ylsJ2u0l6il1",
    "outputId": "8b093591-5378-452e-97a2-d0a69b64d47c"
   },
   "outputs": [
    {
     "data": {
      "text/plain": [
       "34.0"
      ]
     },
     "execution_count": 34,
     "metadata": {
      "tags": []
     },
     "output_type": "execute_result"
    }
   ],
   "source": [
    "sum(profit)"
   ]
  },
  {
   "cell_type": "code",
   "execution_count": 0,
   "metadata": {
    "colab": {
     "autoexec": {
      "startup": false,
      "wait_interval": 0
     }
    },
    "colab_type": "code",
    "collapsed": false,
    "id": "u4pB6yvc6il5",
    "outputId": "e2e9a67b-1aae-4f5f-e94c-e793ef2ec18b"
   },
   "outputs": [
    {
     "data": {
      "text/plain": [
       "[[222.5, 0, 'BUY'],\n",
       " [237.5, 4, 'SELL'],\n",
       " [237.5, 5, 'BUY'],\n",
       " [238.0, 6, 'SELL'],\n",
       " [239.0, 15, 'BUY'],\n",
       " [238.0, 29, 'SELL'],\n",
       " [229.5, 42, 'BUY'],\n",
       " [228.5, 56, 'SELL'],\n",
       " [226.0, 57, 'BUY'],\n",
       " [240.0, 64, 'SELL'],\n",
       " [236.5, 67, 'BUY'],\n",
       " [235.0, 68, 'SELL'],\n",
       " [237.0, 69, 'BUY'],\n",
       " [240.5, 71, 'SELL'],\n",
       " [242.0, 72, 'BUY'],\n",
       " [248.5, 73, 'SELL'],\n",
       " [255.5, 74, 'BUY'],\n",
       " [261.5, 75, 'SELL'],\n",
       " [266.0, 76, 'BUY'],\n",
       " [258.0, 77, 'SELL'],\n",
       " [239.0, 86, 'BUY'],\n",
       " [247.0, 100, 'SELL'],\n",
       " [250.5, 102, 'BUY'],\n",
       " [254.0, 103, 'SELL'],\n",
       " [259.0, 104, 'BUY'],\n",
       " [257.0, 105, 'SELL'],\n",
       " [255.0, 106, 'BUY'],\n",
       " [255.0, 107, 'SELL'],\n",
       " [255.0, 108, 'BUY'],\n",
       " [245.5, 122, 'SELL']]"
      ]
     },
     "execution_count": 35,
     "metadata": {
      "tags": []
     },
     "output_type": "execute_result"
    }
   ],
   "source": [
    "trade_record"
   ]
  },
  {
   "cell_type": "code",
   "execution_count": 0,
   "metadata": {
    "colab": {
     "autoexec": {
      "startup": false,
      "wait_interval": 0
     }
    },
    "colab_type": "code",
    "collapsed": false,
    "id": "F4-tdb3r6imC",
    "outputId": "b0f097ec-85b4-457c-e787-3c1a2fe0d56f"
   },
   "outputs": [
    {
     "data": {
      "image/png": "[encoded data removed]",
      "text/plain": [
       "<Figure size 2160x720 with 1 Axes>"
      ]
     },
     "metadata": {
      "tags": []
     },
     "output_type": "display_data"
    }
   ],
   "source": [
    "start = df_val['Close'].index[0]\n",
    "plt.figure(figsize = (30,10))\n",
    "plt.plot(df_val['Close'])\n",
    "for i in trade_record:\n",
    "    x=i[1]+start\n",
    "    y = i[0]\n",
    "    action = i[2]\n",
    "    if action=='BUY':\n",
    "        plt.plot(x,y,color='red',marker='*')\n",
    "    else:\n",
    "        plt.plot(x,y,color='green',marker='*')"
   ]
  }
 ],
 "metadata": {
  "anaconda-cloud": {},
  "colab": {
   "default_view": {},
   "name": "2330 ++++++.ipynb",
   "provenance": [],
   "version": "0.3.2",
   "views": {}
  },
  "kernelspec": {
   "display_name": "Python [default]",
   "language": "python",
   "name": "python3"
  },
  "language_info": {
   "codemirror_mode": {
    "name": "ipython",
    "version": 3
   },
   "file_extension": ".py",
   "mimetype": "text/x-python",
   "name": "python",
   "nbconvert_exporter": "python",
   "pygments_lexer": "ipython3",
   "version": "3.5.2"
  }
 },
 "nbformat": 4,
 "nbformat_minor": 0
}
