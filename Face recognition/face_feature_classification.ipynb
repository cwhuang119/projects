{
 "cells": [
  {
   "cell_type": "markdown",
   "metadata": {},
   "source": [
    "# 利用特徵值與標記，做SVM分類監督學習"
   ]
  },
  {
   "cell_type": "markdown",
   "metadata": {},
   "source": [
    "### 1.匯入特徵值與標記"
   ]
  },
  {
   "cell_type": "code",
   "execution_count": 1,
   "metadata": {},
   "outputs": [],
   "source": [
    "import os, pickle\n",
    "DATA_PATH = 'face_recognition\\image_data'\n",
    "# \"人臉embedding\"的資料\n",
    "with open('face_recognition\\image_data\\lfw_emb_features.pkl', 'rb') as emb_features_file:\n",
    "    emb_features =pickle.load(emb_features_file)\n",
    "\n",
    "# \"人臉embedding\"所對應的標籤(label)的資料\n",
    "with open('face_recognition\\image_data\\lfw_emb_labels.pkl', 'rb') as emb_lables_file:\n",
    "    emb_labels =pickle.load(emb_lables_file)\n",
    "\n",
    "# \"標籤(label)對應到人臉名稱的字典的資料\n",
    "with open('face_recognition\\image_data\\lfw_emb_labels_dict.pkl', 'rb') as emb_lables_dict_file:\n",
    "    emb_labels_dict =pickle.load(emb_lables_dict_file)"
   ]
  },
  {
   "cell_type": "code",
   "execution_count": 4,
   "metadata": {},
   "outputs": [
    {
     "name": "stdout",
     "output_type": "stream",
     "text": [
      "(9299, 128)\n",
      "9299\n",
      "{0: 'Abdullah_Gul', 1: 'Adrien_Brody', 2: 'Ahmed_Chalabi', 3: 'Ai_Sugiyama', 4: 'Al_Gore', 5: 'Al_Sharpton', 6: 'Alan_Greenspan', 7: 'Alastair_Campbell', 8: 'Albert_Costa', 9: 'Alejandro_Toledo', 10: 'Ali_Naimi', 11: 'Allyson_Felix', 12: 'Alvaro_Uribe', 13: 'Amelia_Vega', 14: 'Amelie_Mauresmo', 15: 'Ana_Guevara', 16: 'Ana_Palacio', 17: 'Andre_Agassi', 18: 'Andy_Roddick', 19: 'Angela_Bassett', 20: 'Angela_Merkel', 21: 'Angelina_Jolie', 22: 'Ann_Veneman', 23: 'Anna_Kournikova', 24: 'Antonio_Banderas', 25: 'Antonio_Palocci', 26: 'Ari_Fleischer', 27: 'Ariel_Sharon', 28: 'Arminio_Fraga', 29: 'Arnold_Schwarzenegger', 30: 'Arnoldo_Aleman', 31: 'Ashanti', 32: 'Atal_Bihari_Vajpayee', 33: 'Ben_Affleck', 34: 'Benazir_Bhutto', 35: 'Benjamin_Netanyahu', 36: 'Bernard_Law', 37: 'Bertie_Ahern', 38: 'Bill_Clinton', 39: 'Bill_Frist', 40: 'Bill_Gates', 41: 'Bill_Graham', 42: 'Bill_McBride', 43: 'Bill_Simon', 44: 'Billy_Crystal', 45: 'Binyamin_Ben-Eliezer', 46: 'Bob_Graham', 47: 'Bob_Hope', 48: 'Bob_Stoops', 49: 'Boris_Becker', 50: 'Brad_Johnson', 51: 'Britney_Spears', 52: 'Bulent_Ecevit', 53: 'Calista_Flockhart', 54: 'Cameron_Diaz', 55: 'Carla_Del_Ponte', 56: 'Carlos_Menem', 57: 'Carlos_Moya', 58: 'Carmen_Electra', 59: 'Carrie-Anne_Moss', 60: 'Catherine_Deneuve', 61: 'Catherine_Zeta-Jones', 62: 'Celine_Dion', 63: 'Cesar_Gaviria', 64: 'Chanda_Rubin', 65: 'Charles_Moose', 66: 'Charles_Taylor', 67: 'Charlton_Heston', 68: 'Chen_Shui-bian', 69: 'Choi_Sung-hong', 70: 'Christine_Baumgartner', 71: 'Christine_Todd_Whitman', 72: 'Ciro_Gomes', 73: 'Clara_Harris', 74: 'Claudia_Pechstein', 75: 'Clay_Aiken', 76: 'Clint_Eastwood', 77: 'Colin_Farrell', 78: 'Colin_Montgomerie', 79: 'Colin_Powell', 80: 'Condoleezza_Rice', 81: 'Costas_Simitis', 82: 'Cruz_Bustamante', 83: 'David_Anderson', 84: 'David_Beckham', 85: 'David_Heymann', 86: 'David_Nalbandian', 87: 'David_Trimble', 88: 'David_Wells', 89: 'Dennis_Hastert', 90: 'Dennis_Kucinich', 91: 'Denzel_Washington', 92: 'Diana_Krall', 93: 'Dick_Cheney', 94: 'Dominique_de_Villepin', 95: 'Donald_Rumsfeld', 96: 'Edmund_Stoiber', 97: 'Eduard_Shevardnadze', 98: 'Eduardo_Duhalde', 99: 'Edward_Lu', 100: 'Elizabeth_Hurley', 101: 'Elizabeth_Smart', 102: 'Elsa_Zylberstein', 103: 'Elton_John', 104: 'Emanuel_Ginobili', 105: 'Emma_Watson', 106: 'Enrique_Bolanos', 107: 'Erika_Harold', 108: 'Fernando_Gonzalez', 109: 'Fernando_Henrique_Cardoso', 110: 'Fidel_Castro', 111: 'Frank_Solich', 112: 'Fujio_Cho', 113: 'Gene_Robinson', 114: 'Geoff_Hoon', 115: 'George_Clooney', 116: 'George_HW_Bush', 117: 'George_Lopez', 118: 'George_Pataki', 119: 'George_Robertson', 120: 'George_W_Bush', 121: 'Gerhard_Schroeder', 122: 'Gerry_Adams', 123: 'Gil_de_Ferran', 124: 'Gloria_Macapagal_Arroyo', 125: 'Goldie_Hawn', 126: 'Gonzalo_Sanchez_de_Lozada', 127: 'Gordon_Brown', 128: 'Grant_Hackett', 129: 'Gray_Davis', 130: 'Gregg_Popovich', 131: 'Guillermo_Coria', 132: 'Gunter_Pleuger', 133: 'Gwyneth_Paltrow', 134: 'Habib_Rizieq', 135: 'Hal_Gehman', 136: 'Halle_Berry', 137: 'Hamid_Karzai', 138: 'Hans_Blix', 139: 'Harrison_Ford', 140: 'Heidi_Klum', 141: 'Heizo_Takenaka', 142: 'Hillary_Clinton', 143: 'Hitomi_Soga', 144: 'Holly_Hunter', 145: 'Hosni_Mubarak', 146: 'Howard_Dean', 147: 'Hu_Jintao', 148: 'Hugh_Grant', 149: 'Hugo_Chavez', 150: 'Ian_Thorpe', 151: 'Igor_Ivanov', 152: 'JK_Rowling', 153: 'Jack_Straw', 154: 'Jackie_Chan', 155: 'Jacques_Chirac', 156: 'Jacques_Rogge', 157: 'Jake_Gyllenhaal', 158: 'James_Blake', 159: 'James_Kelly', 160: 'James_Wolfensohn', 161: 'Jan_Ullrich', 162: 'Jason_Kidd', 163: 'Javier_Solana', 164: 'Jay_Garner', 165: 'Jean-David_Levitte', 166: 'Jean-Pierre_Raffarin', 167: 'Jean_Charest', 168: 'Jean_Chretien', 169: 'Jeb_Bush', 170: 'Jelena_Dokic', 171: 'Jennifer_Aniston', 172: 'Jennifer_Capriati', 173: 'Jennifer_Garner', 174: 'Jennifer_Lopez', 175: 'Jeong_Se-hyun', 176: 'Jeremy_Greenstock', 177: 'Jesse_Jackson', 178: 'Jiang_Zemin', 179: 'Jim_Furyk', 180: 'Jimmy_Carter', 181: 'Jiri_Novak', 182: 'Joan_Laporta', 183: 'Joe_Lieberman', 184: 'John_Abizaid', 185: 'John_Allen_Muhammad', 186: 'John_Ashcroft', 187: 'John_Bolton', 188: 'John_Edwards', 189: 'John_Howard', 190: 'John_Kerry', 191: 'John_Manley', 192: 'John_McCain', 193: 'John_Negroponte', 194: 'John_Paul_II', 195: 'John_Snow', 196: 'John_Stockton', 197: 'John_Travolta', 198: 'Jon_Gruden', 199: 'Jonathan_Edwards', 200: 'Joschka_Fischer', 201: 'Jose_Manuel_Durao_Barroso', 202: 'Jose_Maria_Aznar', 203: 'Jose_Serra', 204: 'Joseph_Biden', 205: 'Juan_Carlos_Ferrero', 206: 'Juan_Pablo_Montoya', 207: 'Julianne_Moore', 208: 'Julie_Gerberding', 209: 'Junichiro_Koizumi', 210: 'Justin_Timberlake', 211: 'Justine_Pasek', 212: 'Kalpana_Chawla', 213: 'Kamal_Kharrazi', 214: 'Kate_Hudson', 215: 'Keanu_Reeves', 216: 'Kevin_Costner', 217: 'Kevin_Spacey', 218: 'Kim_Clijsters', 219: 'Kim_Dae-jung', 220: 'Kim_Ryong-sung', 221: 'King_Abdullah_II', 222: 'Kofi_Annan', 223: 'Kristanna_Loken', 224: 'Kurt_Warner', 225: 'Lance_Armstrong', 226: 'Lance_Bass', 227: 'Larry_Brown', 228: 'Laura_Bush', 229: 'LeBron_James', 230: 'Leonardo_DiCaprio', 231: 'Leonid_Kuchma', 232: 'Li_Peng', 233: 'Li_Zhaoxing', 234: 'Lindsay_Davenport', 235: 'Liza_Minnelli', 236: 'Lleyton_Hewitt', 237: 'Lucio_Gutierrez', 238: 'Lucy_Liu', 239: 'Ludivine_Sagnier', 240: 'Luis_Ernesto_Derbez_Bautista', 241: 'Luis_Gonzalez_Macchi', 242: 'Luis_Horna', 243: 'Luiz_Inacio_Lula_da_Silva', 244: 'Madonna', 245: 'Mahathir_Mohamad', 246: 'Mahmoud_Abbas', 247: 'Marcelo_Rios', 248: 'Marco_Antonio_Barrera', 249: 'Maria_Shriver', 250: 'Maria_Soledad_Alvear_Valenzuela', 251: 'Mariah_Carey', 252: 'Mark_Hurlbert', 253: 'Mark_Philippoussis', 254: 'Martha_Stewart', 255: 'Martin_McGuinness', 256: 'Martin_Scorsese', 257: 'Martina_McBride', 258: 'Matthew_Perry', 259: 'Megawati_Sukarnoputri', 260: 'Meryl_Streep', 261: 'Michael_Bloomberg', 262: 'Michael_Chang', 263: 'Michael_Chiklis', 264: 'Michael_Douglas', 265: 'Michael_Jackson', 266: 'Michael_Phelps', 267: 'Michael_Powell', 268: 'Michael_Schumacher', 269: 'Michelle_Kwan', 270: 'Michelle_Yeoh', 271: 'Mick_Jagger', 272: 'Mike_Krzyzewski', 273: 'Mike_Martz', 274: 'Mike_Myers', 275: 'Mike_Weir', 276: 'Mireya_Moscoso', 277: 'Mohamed_ElBaradei', 278: 'Mohammad_Khatami', 279: 'Mohammed_Al-Douri', 280: 'Monica_Seles', 281: 'Muhammad_Ali', 282: 'Muhammad_Saeed_al-Sahhaf', 283: 'Nadia_Petrova', 284: 'Naji_Sabri', 285: 'Nancy_Pelosi', 286: 'Naomi_Watts', 287: 'Natalie_Coughlin', 288: 'Natalie_Maines', 289: 'Nestor_Kirchner', 290: 'Nia_Vardalos', 291: 'Nicanor_Duarte_Frutos', 292: 'Nick_Nolte', 293: 'Nicole_Kidman', 294: 'Norah_Jones', 295: 'Norm_Coleman', 296: 'Oscar_De_La_Hoya', 297: 'Oswaldo_Paya', 298: 'Pamela_Anderson', 299: 'Paradorn_Srichaphan', 300: 'Paul_Bremer', 301: 'Paul_Burrell', 302: 'Paul_Martin', 303: 'Paul_McCartney', 304: 'Paul_ONeill', 305: 'Paul_Wolfowitz', 306: 'Paula_Radcliffe', 307: 'Pedro_Almodovar', 308: 'Pedro_Malan', 309: 'Pervez_Musharraf', 310: 'Pete_Sampras', 311: 'Peter_Struck', 312: 'Pierce_Brosnan', 313: 'Prince_Charles', 314: 'Princess_Caroline', 315: 'Queen_Elizabeth_II', 316: 'Queen_Rania', 317: 'Rainer_Schuettler', 318: 'Ralf_Schumacher', 319: 'Ray_Romano', 320: 'Recep_Tayyip_Erdogan', 321: 'Renee_Zellweger', 322: 'Ricardo_Lagos', 323: 'Ricardo_Sanchez', 324: 'Richard_Armitage', 325: 'Richard_Gephardt', 326: 'Richard_Gere', 327: 'Richard_Myers', 328: 'Richard_Virenque', 329: 'Rick_Perry', 330: 'Rob_Marshall', 331: 'Robert_Blake', 332: 'Robert_De_Niro', 333: 'Robert_Duvall', 334: 'Robert_Kocharian', 335: 'Robert_Mueller', 336: 'Robert_Redford', 337: 'Robert_Zoellick', 338: 'Roger_Federer', 339: 'Roger_Moore', 340: 'Roh_Moo-hyun', 341: 'Roman_Polanski', 342: 'Romano_Prodi', 343: 'Ron_Dittemore', 344: 'Roy_Moore', 345: 'Rubens_Barrichello', 346: 'Rudolph_Giuliani', 347: 'Russell_Simmons', 348: 'Saddam_Hussein', 349: 'Salma_Hayek', 350: 'Sarah_Hughes', 351: 'Sarah_Jessica_Parker', 352: 'Scott_McClellan', 353: 'Scott_Peterson', 354: 'Sean_OKeefe', 355: 'Serena_Williams', 356: 'Sergei_Ivanov', 357: 'Sergey_Lavrov', 358: 'Sergio_Vieira_De_Mello', 359: 'Sharon_Stone', 360: 'Sheryl_Crow', 361: 'Shimon_Peres', 362: 'Silvan_Shalom', 363: 'Silvio_Berlusconi', 364: 'Sophia_Loren', 365: 'Sourav_Ganguly', 366: 'Spencer_Abraham', 367: 'Steffi_Graf', 368: 'Steve_Lavin', 369: 'Steve_Nash', 370: 'Steven_Spielberg', 371: 'Susan_Sarandon', 372: 'Sylvester_Stallone', 373: 'Taha_Yassin_Ramadan', 374: 'Tang_Jiaxuan', 375: 'Tariq_Aziz', 376: 'Thabo_Mbeki', 377: 'Thaksin_Shinawatra', 378: 'Thomas_OBrien', 379: 'Tiger_Woods', 380: 'Tim_Henman', 381: 'Tim_Robbins', 382: 'Tom_Crean', 383: 'Tom_Cruise', 384: 'Tom_Daschle', 385: 'Tom_Hanks', 386: 'Tom_Harkin', 387: 'Tom_Ridge', 388: 'Tommy_Franks', 389: 'Tommy_Haas', 390: 'Tommy_Thompson', 391: 'Tony_Blair', 392: 'Tony_Stewart', 393: 'Trent_Lott', 394: 'Tung_Chee-hwa', 395: 'Vaclav_Havel', 396: 'Valentino_Rossi', 397: 'Valery_Giscard_dEstaing', 398: 'Vanessa_Redgrave', 399: 'Venus_Williams', 400: 'Vicente_Fernandez', 401: 'Vicente_Fox', 402: 'Victoria_Clarke', 403: 'Vincent_Brooks', 404: 'Vladimir_Putin', 405: 'Vojislav_Kostunica', 406: 'Walter_Mondale', 407: 'Wayne_Ferreira', 408: 'Wen_Jiabao', 409: 'William_Donaldson', 410: 'William_Ford_Jr', 411: 'William_Macy', 412: 'Winona_Ryder', 413: 'Woody_Allen', 414: 'Xanana_Gusmao', 415: 'Xavier_Malisse', 416: 'Yao_Ming', 417: 'Yashwant_Sinha', 418: 'Yasser_Arafat', 419: 'Yoko_Ono', 420: 'Yoriko_Kawaguchi', 421: 'Zhu_Rongji', 422: 'Zinedine_Zidane', 423: 'alexis', 424: 'dad', 425: 'gem', 426: 'grace', 427: 'leo_chen', 428: 'mom', 429: 'rich', 430: 'tw', 431: '乾德門', 432: '任家萱', 433: '任賢齊', 434: '侯佩岑', 435: '侯友宜', 436: '劉寶傑', 437: '劉若英', 438: '吳建豪', 439: '吳念真', 440: '吳怡霈', 441: '吳敦義', 442: '周子瑜', 443: '周杰倫', 444: '姚文智', 445: '安心亞', 446: '宥勝', 447: '屈中恆', 448: '康康', 449: '庹宗康', 450: '張惠妹', 451: '張鈞甯', 452: '彭于晏', 453: '徐佳瑩', 454: '徐熙媛', 455: '徐若瑄', 456: '戴愛玲', 457: '朱孝天', 458: '朱立倫', 459: '李宗盛', 460: '李毓芬', 461: '李登輝', 462: '林佳龍', 463: '林依晨', 464: '林俊杰', 465: '林心如', 466: '林志炫', 467: '林志玲', 468: '林昶佐', 469: '林盈臻', 470: '林美秀', 471: '林育羣', 472: '林逸欣', 473: '林韋君', 474: '柯建銘', 475: '柯文哲', 476: '柯震東', 477: '桂綸鎂', 478: '楊丞琳', 479: '段宜康', 480: '溫昇豪', 481: '潘瑋柏', 482: '王彩樺', 483: '田馥甄', 484: '盧廣仲', 485: '簡愷樂', 486: '羅北安', 487: '羅大佑', 488: '翁滋蔓', 489: '舒淇', 490: '范瑋琪', 491: '葉民志', 492: '蔡依林', 493: '蔡頤榛', 494: '蔡黃汝', 495: '蕭敬騰', 496: '蘇貞昌', 497: '許效舜', 498: '費玉清', 499: '趙又廷', 500: '連戰', 501: '邱彥翔', 502: '邱毅', 503: '郝龍斌', 504: '郭書瑤', 505: '郭采潔', 506: '郭雪芙', 507: '鄧麗君', 508: '鄭弘儀', 509: '鄭文燦', 510: '鄭茵聲', 511: '金城武', 512: '鈕承澤', 513: '鍾欣凌', 514: '阮經天', 515: '阿Ken', 516: '陳其邁', 517: '陳博正', 518: '陳嘉樺', 519: '陳妍希', 520: '陳意涵', 521: '陳柏霖', 522: '陳水扁', 523: '陳漢典', 524: '陳為民', 525: '陳綺貞', 526: '顧寶明', 527: '馬如龍', 528: '馬念先', 529: '馬英九', 530: '高金素梅', 531: '鳳飛飛', 532: '黃仲崑', 533: '黃嘉千', 534: '黃國昌', 535: '黃子佼', 536: '黃小琥', 537: '黃立行', 538: '黃韻玲', 539: '黄安'}\n"
     ]
    }
   ],
   "source": [
    "print(emb_features.shape)\n",
    "print(len(emb_labels))\n",
    "print(emb_labels_dict)"
   ]
  },
  {
   "cell_type": "markdown",
   "metadata": {},
   "source": [
    "### 將資料區分成train_data和test_data"
   ]
  },
  {
   "cell_type": "code",
   "execution_count": 5,
   "metadata": {},
   "outputs": [
    {
     "name": "stdout",
     "output_type": "stream",
     "text": [
      "X_train: 8759, y_train: 8759\n",
      "X_test: 540, y_test: 540\n"
     ]
    }
   ],
   "source": [
    "# 準備相關變數\n",
    "X_train = []; y_train = []\n",
    "X_test = []; y_test = []\n",
    "\n",
    "# 保存己經有處理過的人臉label\n",
    "processed = set()\n",
    "\n",
    "# 分割訓練資料集與驗證資料集\n",
    "for (emb_feature, emb_label) in zip(emb_features, emb_labels):\n",
    "    if emb_label in processed:\n",
    "        X_train.append(emb_feature)\n",
    "        y_train.append(emb_label)\n",
    "    else:\n",
    "        X_test.append(emb_feature)\n",
    "        y_test.append(emb_label)\n",
    "        processed.add(emb_label)\n",
    "\n",
    "# 結果\n",
    "print('X_train: {}, y_train: {}'.format(len(X_train), len(y_train)))\n",
    "print('X_test: {}, y_test: {}'.format(len(X_test), len(y_test)))"
   ]
  },
  {
   "cell_type": "markdown",
   "metadata": {},
   "source": [
    "### 用LinearSVC來做分類訓練"
   ]
  },
  {
   "cell_type": "code",
   "execution_count": 7,
   "metadata": {},
   "outputs": [
    {
     "name": "stdout",
     "output_type": "stream",
     "text": [
      "Training classifier\n",
      "Validation result:  0.9740740740740741\n"
     ]
    }
   ],
   "source": [
    "from sklearn.svm import LinearSVC\n",
    "# import winsound\n",
    "# 訓練分類器\n",
    "print('Training classifier')\n",
    "linearsvc_classifier = LinearSVC(C=2, multi_class='ovr')\n",
    "\n",
    "# 進行訓練\n",
    "linearsvc_classifier.fit(X_train, y_train)\n",
    "\n",
    "# 使用驗證資料集來檢查準確率\n",
    "score = linearsvc_classifier.score(X_test, y_test)\n",
    "\n",
    "# 打印分類器的準確率\n",
    "print(\"Validation result: \", score)\n",
    "# winsound.MessageBeep()"
   ]
  },
  {
   "cell_type": "markdown",
   "metadata": {},
   "source": [
    "### 將完整model儲存使用"
   ]
  },
  {
   "cell_type": "code",
   "execution_count": 14,
   "metadata": {},
   "outputs": [
    {
     "name": "stdout",
     "output_type": "stream",
     "text": [
      "['Abdullah Gul', 'Adrien Brody', 'Ahmed Chalabi', 'Ai Sugiyama', 'Al Gore', 'Al Sharpton', 'Alan Greenspan', 'Alastair Campbell', 'Albert Costa', 'Alejandro Toledo', 'Ali Naimi', 'Allyson Felix', 'Alvaro Uribe', 'Amelia Vega', 'Amelie Mauresmo', 'Ana Guevara', 'Ana Palacio', 'Andre Agassi', 'Andy Roddick', 'Angela Bassett', 'Angela Merkel', 'Angelina Jolie', 'Ann Veneman', 'Anna Kournikova', 'Antonio Banderas', 'Antonio Palocci', 'Ari Fleischer', 'Ariel Sharon', 'Arminio Fraga', 'Arnold Schwarzenegger', 'Arnoldo Aleman', 'Ashanti', 'Atal Bihari Vajpayee', 'Ben Affleck', 'Benazir Bhutto', 'Benjamin Netanyahu', 'Bernard Law', 'Bertie Ahern', 'Bill Clinton', 'Bill Frist', 'Bill Gates', 'Bill Graham', 'Bill McBride', 'Bill Simon', 'Billy Crystal', 'Binyamin Ben-Eliezer', 'Bob Graham', 'Bob Hope', 'Bob Stoops', 'Boris Becker', 'Brad Johnson', 'Britney Spears', 'Bulent Ecevit', 'Calista Flockhart', 'Cameron Diaz', 'Carla Del Ponte', 'Carlos Menem', 'Carlos Moya', 'Carmen Electra', 'Carrie-Anne Moss', 'Catherine Deneuve', 'Catherine Zeta-Jones', 'Celine Dion', 'Cesar Gaviria', 'Chanda Rubin', 'Charles Moose', 'Charles Taylor', 'Charlton Heston', 'Chen Shui-bian', 'Choi Sung-hong', 'Christine Baumgartner', 'Christine Todd Whitman', 'Ciro Gomes', 'Clara Harris', 'Claudia Pechstein', 'Clay Aiken', 'Clint Eastwood', 'Colin Farrell', 'Colin Montgomerie', 'Colin Powell', 'Condoleezza Rice', 'Costas Simitis', 'Cruz Bustamante', 'David Anderson', 'David Beckham', 'David Heymann', 'David Nalbandian', 'David Trimble', 'David Wells', 'Dennis Hastert', 'Dennis Kucinich', 'Denzel Washington', 'Diana Krall', 'Dick Cheney', 'Dominique de Villepin', 'Donald Rumsfeld', 'Edmund Stoiber', 'Eduard Shevardnadze', 'Eduardo Duhalde', 'Edward Lu', 'Elizabeth Hurley', 'Elizabeth Smart', 'Elsa Zylberstein', 'Elton John', 'Emanuel Ginobili', 'Emma Watson', 'Enrique Bolanos', 'Erika Harold', 'Fernando Gonzalez', 'Fernando Henrique Cardoso', 'Fidel Castro', 'Frank Solich', 'Fujio Cho', 'Gene Robinson', 'Geoff Hoon', 'George Clooney', 'George HW Bush', 'George Lopez', 'George Pataki', 'George Robertson', 'George W Bush', 'Gerhard Schroeder', 'Gerry Adams', 'Gil de Ferran', 'Gloria Macapagal Arroyo', 'Goldie Hawn', 'Gonzalo Sanchez de Lozada', 'Gordon Brown', 'Grant Hackett', 'Gray Davis', 'Gregg Popovich', 'Guillermo Coria', 'Gunter Pleuger', 'Gwyneth Paltrow', 'Habib Rizieq', 'Hal Gehman', 'Halle Berry', 'Hamid Karzai', 'Hans Blix', 'Harrison Ford', 'Heidi Klum', 'Heizo Takenaka', 'Hillary Clinton', 'Hitomi Soga', 'Holly Hunter', 'Hosni Mubarak', 'Howard Dean', 'Hu Jintao', 'Hugh Grant', 'Hugo Chavez', 'Ian Thorpe', 'Igor Ivanov', 'JK Rowling', 'Jack Straw', 'Jackie Chan', 'Jacques Chirac', 'Jacques Rogge', 'Jake Gyllenhaal', 'James Blake', 'James Kelly', 'James Wolfensohn', 'Jan Ullrich', 'Jason Kidd', 'Javier Solana', 'Jay Garner', 'Jean-David Levitte', 'Jean-Pierre Raffarin', 'Jean Charest', 'Jean Chretien', 'Jeb Bush', 'Jelena Dokic', 'Jennifer Aniston', 'Jennifer Capriati', 'Jennifer Garner', 'Jennifer Lopez', 'Jeong Se-hyun', 'Jeremy Greenstock', 'Jesse Jackson', 'Jiang Zemin', 'Jim Furyk', 'Jimmy Carter', 'Jiri Novak', 'Joan Laporta', 'Joe Lieberman', 'John Abizaid', 'John Allen Muhammad', 'John Ashcroft', 'John Bolton', 'John Edwards', 'John Howard', 'John Kerry', 'John Manley', 'John McCain', 'John Negroponte', 'John Paul II', 'John Snow', 'John Stockton', 'John Travolta', 'Jon Gruden', 'Jonathan Edwards', 'Joschka Fischer', 'Jose Manuel Durao Barroso', 'Jose Maria Aznar', 'Jose Serra', 'Joseph Biden', 'Juan Carlos Ferrero', 'Juan Pablo Montoya', 'Julianne Moore', 'Julie Gerberding', 'Junichiro Koizumi', 'Justin Timberlake', 'Justine Pasek', 'Kalpana Chawla', 'Kamal Kharrazi', 'Kate Hudson', 'Keanu Reeves', 'Kevin Costner', 'Kevin Spacey', 'Kim Clijsters', 'Kim Dae-jung', 'Kim Ryong-sung', 'King Abdullah II', 'Kofi Annan', 'Kristanna Loken', 'Kurt Warner', 'Lance Armstrong', 'Lance Bass', 'Larry Brown', 'Laura Bush', 'LeBron James', 'Leonardo DiCaprio', 'Leonid Kuchma', 'Li Peng', 'Li Zhaoxing', 'Lindsay Davenport', 'Liza Minnelli', 'Lleyton Hewitt', 'Lucio Gutierrez', 'Lucy Liu', 'Ludivine Sagnier', 'Luis Ernesto Derbez Bautista', 'Luis Gonzalez Macchi', 'Luis Horna', 'Luiz Inacio Lula da Silva', 'Madonna', 'Mahathir Mohamad', 'Mahmoud Abbas', 'Marcelo Rios', 'Marco Antonio Barrera', 'Maria Shriver', 'Maria Soledad Alvear Valenzuela', 'Mariah Carey', 'Mark Hurlbert', 'Mark Philippoussis', 'Martha Stewart', 'Martin McGuinness', 'Martin Scorsese', 'Martina McBride', 'Matthew Perry', 'Megawati Sukarnoputri', 'Meryl Streep', 'Michael Bloomberg', 'Michael Chang', 'Michael Chiklis', 'Michael Douglas', 'Michael Jackson', 'Michael Phelps', 'Michael Powell', 'Michael Schumacher', 'Michelle Kwan', 'Michelle Yeoh', 'Mick Jagger', 'Mike Krzyzewski', 'Mike Martz', 'Mike Myers', 'Mike Weir', 'Mireya Moscoso', 'Mohamed ElBaradei', 'Mohammad Khatami', 'Mohammed Al-Douri', 'Monica Seles', 'Muhammad Ali', 'Muhammad Saeed al-Sahhaf', 'Nadia Petrova', 'Naji Sabri', 'Nancy Pelosi', 'Naomi Watts', 'Natalie Coughlin', 'Natalie Maines', 'Nestor Kirchner', 'Nia Vardalos', 'Nicanor Duarte Frutos', 'Nick Nolte', 'Nicole Kidman', 'Norah Jones', 'Norm Coleman', 'Oscar De La Hoya', 'Oswaldo Paya', 'Pamela Anderson', 'Paradorn Srichaphan', 'Paul Bremer', 'Paul Burrell', 'Paul Martin', 'Paul McCartney', 'Paul ONeill', 'Paul Wolfowitz', 'Paula Radcliffe', 'Pedro Almodovar', 'Pedro Malan', 'Pervez Musharraf', 'Pete Sampras', 'Peter Struck', 'Pierce Brosnan', 'Prince Charles', 'Princess Caroline', 'Queen Elizabeth II', 'Queen Rania', 'Rainer Schuettler', 'Ralf Schumacher', 'Ray Romano', 'Recep Tayyip Erdogan', 'Renee Zellweger', 'Ricardo Lagos', 'Ricardo Sanchez', 'Richard Armitage', 'Richard Gephardt', 'Richard Gere', 'Richard Myers', 'Richard Virenque', 'Rick Perry', 'Rob Marshall', 'Robert Blake', 'Robert De Niro', 'Robert Duvall', 'Robert Kocharian', 'Robert Mueller', 'Robert Redford', 'Robert Zoellick', 'Roger Federer', 'Roger Moore', 'Roh Moo-hyun', 'Roman Polanski', 'Romano Prodi', 'Ron Dittemore', 'Roy Moore', 'Rubens Barrichello', 'Rudolph Giuliani', 'Russell Simmons', 'Saddam Hussein', 'Salma Hayek', 'Sarah Hughes', 'Sarah Jessica Parker', 'Scott McClellan', 'Scott Peterson', 'Sean OKeefe', 'Serena Williams', 'Sergei Ivanov', 'Sergey Lavrov', 'Sergio Vieira De Mello', 'Sharon Stone', 'Sheryl Crow', 'Shimon Peres', 'Silvan Shalom', 'Silvio Berlusconi', 'Sophia Loren', 'Sourav Ganguly', 'Spencer Abraham', 'Steffi Graf', 'Steve Lavin', 'Steve Nash', 'Steven Spielberg', 'Susan Sarandon', 'Sylvester Stallone', 'Taha Yassin Ramadan', 'Tang Jiaxuan', 'Tariq Aziz', 'Thabo Mbeki', 'Thaksin Shinawatra', 'Thomas OBrien', 'Tiger Woods', 'Tim Henman', 'Tim Robbins', 'Tom Crean', 'Tom Cruise', 'Tom Daschle', 'Tom Hanks', 'Tom Harkin', 'Tom Ridge', 'Tommy Franks', 'Tommy Haas', 'Tommy Thompson', 'Tony Blair', 'Tony Stewart', 'Trent Lott', 'Tung Chee-hwa', 'Vaclav Havel', 'Valentino Rossi', 'Valery Giscard dEstaing', 'Vanessa Redgrave', 'Venus Williams', 'Vicente Fernandez', 'Vicente Fox', 'Victoria Clarke', 'Vincent Brooks', 'Vladimir Putin', 'Vojislav Kostunica', 'Walter Mondale', 'Wayne Ferreira', 'Wen Jiabao', 'William Donaldson', 'William Ford Jr', 'William Macy', 'Winona Ryder', 'Woody Allen', 'Xanana Gusmao', 'Xavier Malisse', 'Yao Ming', 'Yashwant Sinha', 'Yasser Arafat', 'Yoko Ono', 'Yoriko Kawaguchi', 'Zhu Rongji', 'Zinedine Zidane', 'alexis', 'dad', 'gem', 'grace', 'leo chen', 'mom', 'rich', 'tw', '乾德門', '任家萱', '任賢齊', '侯佩岑', '侯友宜', '劉寶傑', '劉若英', '吳建豪', '吳念真', '吳怡霈', '吳敦義', '周子瑜', '周杰倫', '姚文智', '安心亞', '宥勝', '屈中恆', '康康', '庹宗康', '張惠妹', '張鈞甯', '彭于晏', '徐佳瑩', '徐熙媛', '徐若瑄', '戴愛玲', '朱孝天', '朱立倫', '李宗盛', '李毓芬', '李登輝', '林佳龍', '林依晨', '林俊杰', '林心如', '林志炫', '林志玲', '林昶佐', '林盈臻', '林美秀', '林育羣', '林逸欣', '林韋君', '柯建銘', '柯文哲', '柯震東', '桂綸鎂', '楊丞琳', '段宜康', '溫昇豪', '潘瑋柏', '王彩樺', '田馥甄', '盧廣仲', '簡愷樂', '羅北安', '羅大佑', '翁滋蔓', '舒淇', '范瑋琪', '葉民志', '蔡依林', '蔡頤榛', '蔡黃汝', '蕭敬騰', '蘇貞昌', '許效舜', '費玉清', '趙又廷', '連戰', '邱彥翔', '邱毅', '郝龍斌', '郭書瑤', '郭采潔', '郭雪芙', '鄧麗君', '鄭弘儀', '鄭文燦', '鄭茵聲', '金城武', '鈕承澤', '鍾欣凌', '阮經天', '阿Ken', '陳其邁', '陳博正', '陳嘉樺', '陳妍希', '陳意涵', '陳柏霖', '陳水扁', '陳漢典', '陳為民', '陳綺貞', '顧寶明', '馬如龍', '馬念先', '馬英九', '高金素梅', '鳳飛飛', '黃仲崑', '黃嘉千', '黃國昌', '黃子佼', '黃小琥', '黃立行', '黃韻玲', '黄安']\n",
      "Saved classifier model to file lfw_svm_classifier.pkl\n"
     ]
    }
   ],
   "source": [
    "# 產生一個人臉的人名列表，以便辨識後來使用\n",
    "#class_names = [cls.name.replace('_', ' ') for cls in dataset]\n",
    "member_list = []\n",
    "class_names = []\n",
    "for key in sorted(emb_labels_dict.keys()):\n",
    "    if emb_labels_dict[key] in member_list:\n",
    "        class_names.append('Unknown')\n",
    "#         class_names.append(emb_labels_dict[key].replace('_', ' '))\n",
    "\n",
    "    else:\n",
    "#         class_names.append('Unknown')\n",
    "        class_names.append(emb_labels_dict[key].replace('_', ' '))\n",
    "print(class_names)\n",
    "\n",
    "# 保存人臉分類器到檔案系統\n",
    "with open('face_recognition\\model\\linearsvm\\lfw_svm_classifier.pkl', 'wb') as outfile:\n",
    "    pickle.dump((linearsvc_classifier, class_names), outfile)  #class_names可用客製鍵值對給對應商家\n",
    "    \n",
    "print('Saved classifier model to file lfw_svm_classifier.pkl')"
   ]
  },
  {
   "cell_type": "code",
   "execution_count": null,
   "metadata": {},
   "outputs": [],
   "source": []
  }
 ],
 "metadata": {
  "kernelspec": {
   "display_name": "Python 3",
   "language": "python",
   "name": "python3"
  },
  "language_info": {
   "codemirror_mode": {
    "name": "ipython",
    "version": 3
   },
   "file_extension": ".py",
   "mimetype": "text/x-python",
   "name": "python",
   "nbconvert_exporter": "python",
   "pygments_lexer": "ipython3",
   "version": "3.5.4"
  }
 },
 "nbformat": 4,
 "nbformat_minor": 2
}
